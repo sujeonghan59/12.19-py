{
 "cells": [
  {
   "cell_type": "code",
   "execution_count": 1,
   "metadata": {},
   "outputs": [
    {
     "name": "stdout",
     "output_type": "stream",
     "text": [
      "Collecting pyinstaller\n",
      "  Downloading pyinstaller-5.7.0-py3-none-win_amd64.whl (1.3 MB)\n",
      "     ---------------------------------------- 1.3/1.3 MB 8.9 MB/s eta 0:00:00\n",
      "Collecting pefile>=2022.5.30\n",
      "  Downloading pefile-2022.5.30.tar.gz (72 kB)\n",
      "     ---------------------------------------- 72.9/72.9 kB 4.2 MB/s eta 0:00:00\n",
      "  Preparing metadata (setup.py): started\n",
      "  Preparing metadata (setup.py): finished with status 'done'\n",
      "Collecting pyinstaller-hooks-contrib>=2021.4\n",
      "  Downloading pyinstaller_hooks_contrib-2022.14-py2.py3-none-any.whl (252 kB)\n",
      "     -------------------------------------- 252.6/252.6 kB 7.8 MB/s eta 0:00:00\n",
      "Collecting altgraph\n",
      "  Downloading altgraph-0.17.3-py2.py3-none-any.whl (21 kB)\n",
      "Requirement already satisfied: setuptools>=42.0.0 in c:\\users\\ezen\\anaconda3\\lib\\site-packages (from pyinstaller) (63.4.1)\n",
      "Requirement already satisfied: pywin32-ctypes>=0.2.0 in c:\\users\\ezen\\anaconda3\\lib\\site-packages (from pyinstaller) (0.2.0)\n",
      "Requirement already satisfied: future in c:\\users\\ezen\\anaconda3\\lib\\site-packages (from pefile>=2022.5.30->pyinstaller) (0.18.2)\n",
      "Building wheels for collected packages: pefile\n",
      "  Building wheel for pefile (setup.py): started\n",
      "  Building wheel for pefile (setup.py): finished with status 'done'\n",
      "  Created wheel for pefile: filename=pefile-2022.5.30-py3-none-any.whl size=69362 sha256=3293a39350c9b8fa30f9d6d88a0fc57bd3269fbc7c65e9b45991c9c1f28b6f25\n",
      "  Stored in directory: c:\\users\\ezen\\appdata\\local\\pip\\cache\\wheels\\f1\\fe\\01\\5536332fc49e010786c52886ac14f72073dd65fed3c3d8945c\n",
      "Successfully built pefile\n",
      "Installing collected packages: altgraph, pyinstaller-hooks-contrib, pefile, pyinstaller\n",
      "Successfully installed altgraph-0.17.3 pefile-2022.5.30 pyinstaller-5.7.0 pyinstaller-hooks-contrib-2022.14\n",
      "Note: you may need to restart the kernel to use updated packages.\n"
     ]
    }
   ],
   "source": [
    "pip install pyinstaller"
   ]
  },
  {
   "cell_type": "code",
   "execution_count": 5,
   "metadata": {
    "tags": [
     "parameters"
    ]
   },
   "outputs": [
    {
     "ename": "SyntaxError",
     "evalue": "EOF while scanning triple-quoted string literal (2067392925.py, line 45)",
     "output_type": "error",
     "traceback": [
      "\u001b[1;36m  File \u001b[1;32m\"C:\\Users\\EZEN\\AppData\\Local\\Temp\\ipykernel_15744\\2067392925.py\"\u001b[1;36m, line \u001b[1;32m45\u001b[0m\n\u001b[1;33m    df\u001b[0m\n\u001b[1;37m      \n^\u001b[0m\n\u001b[1;31mSyntaxError\u001b[0m\u001b[1;31m:\u001b[0m EOF while scanning triple-quoted string literal\n"
     ]
    }
   ],
   "source": [
    "\n",
    "\"\"\"\n",
    "\n",
    "import requests  #인터넷 연결\n",
    "from bs4 import BeautifulSoup as bs  # 데이터 분석 쉽게 처리\n",
    "import pandas as pd # 데이터 분석 라이브러리\n",
    "\n",
    "url = 'https://movie.naver.com/movie/sdb/rank/rmovie.naver?sel=cur&date=20220112'\n",
    "\n",
    "html = requests.get(url)\n",
    "soup = bs(html.text)\n",
    "\n",
    "soup\n",
    "\n",
    "soup.select('div.tit5 > a')\n",
    "\n",
    "title_n = soup.select('div.tit5 > a')\n",
    "len(title_n)\n",
    "\n",
    "title_n[0].text\n",
    "\n",
    "\n",
    "\n",
    "point_n = soup.select('td.point')\n",
    "len(point_n)\n",
    "\n",
    "point_n[0].text\n",
    "\n",
    "\n",
    "\n",
    "print(title_n[2].text)\n",
    "print(point_n[2].text)\n",
    "\n",
    "movie_list = []\n",
    "rank = 1\n",
    "\n",
    "for each in range(len(point_n)):\n",
    "  title = title_n[each].text\n",
    "  point = point_n[each].text\n",
    "  movie_list.append([rank, title, point])\n",
    "  rank += 1\n",
    "\n",
    "movie_list\n",
    "\n",
    "df = pd.DataFrame(movie_list, columns = ['순위','제목','평점'])\n",
    "df"
   ]
  }
 ],
 "metadata": {
  "kernelspec": {
   "display_name": "base",
   "language": "python",
   "name": "python3"
  },
  "language_info": {
   "codemirror_mode": {
    "name": "ipython",
    "version": 3
   },
   "file_extension": ".py",
   "mimetype": "text/x-python",
   "name": "python",
   "nbconvert_exporter": "python",
   "pygments_lexer": "ipython3",
   "version": "3.9.13"
  },
  "orig_nbformat": 4,
  "vscode": {
   "interpreter": {
    "hash": "7f7e32c5e102288e992346f63d8c1eb5d8460aac8c9e83a028ee1cbe79ab1c05"
   }
  }
 },
 "nbformat": 4,
 "nbformat_minor": 2
}
