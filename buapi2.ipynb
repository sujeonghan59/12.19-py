{
 "cells": [
  {
   "cell_type": "code",
   "execution_count": 4,
   "metadata": {},
   "outputs": [
    {
     "name": "stdout",
     "output_type": "stream",
     "text": [
      "Collecting pybithumb\n",
      "  Downloading pybithumb-1.0.21-py3-none-any.whl (9.9 kB)\n",
      "Collecting bs4\n",
      "  Downloading bs4-0.0.1.tar.gz (1.1 kB)\n",
      "  Preparing metadata (setup.py): started\n",
      "  Preparing metadata (setup.py): finished with status 'done'\n",
      "Requirement already satisfied: pandas in c:\\users\\ezen\\anaconda3\\lib\\site-packages (from pybithumb) (1.4.4)\n",
      "Requirement already satisfied: requests in c:\\users\\ezen\\anaconda3\\lib\\site-packages (from pybithumb) (2.28.1)\n",
      "Collecting websockets\n",
      "  Downloading websockets-10.4-cp39-cp39-win_amd64.whl (101 kB)\n",
      "     -------------------------------------- 101.4/101.4 kB 5.7 MB/s eta 0:00:00\n",
      "Collecting datetime\n",
      "  Downloading DateTime-4.7-py2.py3-none-any.whl (52 kB)\n",
      "     ---------------------------------------- 52.2/52.2 kB ? eta 0:00:00\n",
      "Collecting html5lib\n",
      "  Downloading html5lib-1.1-py2.py3-none-any.whl (112 kB)\n",
      "     ---------------------------------------- 112.2/112.2 kB ? eta 0:00:00\n",
      "Requirement already satisfied: beautifulsoup4 in c:\\users\\ezen\\anaconda3\\lib\\site-packages (from bs4->pybithumb) (4.11.1)\n",
      "Requirement already satisfied: zope.interface in c:\\users\\ezen\\anaconda3\\lib\\site-packages (from datetime->pybithumb) (5.4.0)\n",
      "Requirement already satisfied: pytz in c:\\users\\ezen\\anaconda3\\lib\\site-packages (from datetime->pybithumb) (2022.1)\n",
      "Requirement already satisfied: six>=1.9 in c:\\users\\ezen\\anaconda3\\lib\\site-packages (from html5lib->pybithumb) (1.16.0)\n",
      "Requirement already satisfied: webencodings in c:\\users\\ezen\\anaconda3\\lib\\site-packages (from html5lib->pybithumb) (0.5.1)\n",
      "Requirement already satisfied: python-dateutil>=2.8.1 in c:\\users\\ezen\\anaconda3\\lib\\site-packages (from pandas->pybithumb) (2.8.2)\n",
      "Requirement already satisfied: numpy>=1.18.5 in c:\\users\\ezen\\anaconda3\\lib\\site-packages (from pandas->pybithumb) (1.21.5)\n",
      "Requirement already satisfied: charset-normalizer<3,>=2 in c:\\users\\ezen\\anaconda3\\lib\\site-packages (from requests->pybithumb) (2.0.4)\n",
      "Requirement already satisfied: urllib3<1.27,>=1.21.1 in c:\\users\\ezen\\anaconda3\\lib\\site-packages (from requests->pybithumb) (1.26.11)\n",
      "Requirement already satisfied: idna<4,>=2.5 in c:\\users\\ezen\\anaconda3\\lib\\site-packages (from requests->pybithumb) (3.3)\n",
      "Requirement already satisfied: certifi>=2017.4.17 in c:\\users\\ezen\\anaconda3\\lib\\site-packages (from requests->pybithumb) (2022.9.14)\n",
      "Requirement already satisfied: soupsieve>1.2 in c:\\users\\ezen\\anaconda3\\lib\\site-packages (from beautifulsoup4->bs4->pybithumb) (2.3.1)\n",
      "Requirement already satisfied: setuptools in c:\\users\\ezen\\anaconda3\\lib\\site-packages (from zope.interface->datetime->pybithumb) (63.4.1)\n",
      "Building wheels for collected packages: bs4\n",
      "  Building wheel for bs4 (setup.py): started\n",
      "  Building wheel for bs4 (setup.py): finished with status 'done'\n",
      "  Created wheel for bs4: filename=bs4-0.0.1-py3-none-any.whl size=1257 sha256=a1897652ccaea0ec490219a852a2afbc0b786f8eafcf37f66436ac459b0c33e0\n",
      "  Stored in directory: c:\\users\\ezen\\appdata\\local\\pip\\cache\\wheels\\73\\2b\\cb\\099980278a0c9a3e57ff1a89875ec07bfa0b6fcbebb9a8cad3\n",
      "Successfully built bs4\n",
      "Installing collected packages: websockets, html5lib, datetime, bs4, pybithumb\n",
      "Successfully installed bs4-0.0.1 datetime-4.7 html5lib-1.1 pybithumb-1.0.21 websockets-10.4\n",
      "Note: you may need to restart the kernel to use updated packages.\n"
     ]
    }
   ],
   "source": [
    "pip install pybithumb"
   ]
  },
  {
   "cell_type": "code",
   "execution_count": 8,
   "metadata": {},
   "outputs": [
    {
     "ename": "SyntaxError",
     "evalue": "invalid syntax (2003741474.py, line 15)",
     "output_type": "error",
     "traceback": [
      "\u001b[1;36m  File \u001b[1;32m\"C:\\Users\\EZEN\\AppData\\Local\\Temp\\ipykernel_20896\\2003741474.py\"\u001b[1;36m, line \u001b[1;32m15\u001b[0m\n\u001b[1;33m    class MyWindow(QMainWindow, from _calss):\u001b[0m\n\u001b[1;37m                                ^\u001b[0m\n\u001b[1;31mSyntaxError\u001b[0m\u001b[1;31m:\u001b[0m invalid syntax\n"
     ]
    }
   ],
   "source": [
    "# 단추를 클릭하면 가격 조회해서 출력하기\n",
    "\n",
    "# 파이 코빗으로 하기\n",
    "\n",
    "# pip install pybithumb  # 빗섬에서 만든 api를 사용하기 위해 모듈 사용( 첨 한번만)\n",
    "\n",
    "\n",
    "import sys                           # 윈도우 시스템 접근\n",
    "from PyQt5.QtWidgets import *         # PyQt5 모듈 읽어오기\n",
    "from PyQt5 import uic    # 디자이너로 만든 창 사용\n",
    "import pybithumb  # 새로 깔기\n",
    "\n",
    "from_class = uci.loadUiType(\"mywindow.ui\")[0]\n",
    "\n",
    "class MyWindow(QMainWindow, from _calss):\n",
    "   def __init__(self): \n",
    "       super().__init__()\n",
    "       self.setupUi(self)\n",
    "       self.pushButton.clicked.connect(self.btn_clicked)\n",
    "\n",
    "   def btn_clicked(self)     \n",
    "       price = pybithumb.get_current_price(\"BTC\")\n",
    "print(\"price\")    \n",
    "\n",
    "app = QApplication(sys.argv) # 윈도우 창띄우기\n",
    "window = MyWindow()\n",
    "window.show()\n",
    "\n",
    "app.exec_() "
   ]
  },
  {
   "cell_type": "code",
   "execution_count": 9,
   "metadata": {},
   "outputs": [
    {
     "name": "stdout",
     "output_type": "stream",
     "text": [
      "22870000.0\n"
     ]
    }
   ],
   "source": [
    "import pybithumb\n",
    "price = pybithumb.get_current_price(\"BTC\")\n",
    "print(price)"
   ]
  },
  {
   "cell_type": "code",
   "execution_count": 15,
   "metadata": {},
   "outputs": [
    {
     "ename": "",
     "evalue": "",
     "output_type": "error",
     "traceback": [
      "\u001b[1;31mCanceled future for execute_request message before replies were done"
     ]
    },
    {
     "ename": "",
     "evalue": "",
     "output_type": "error",
     "traceback": [
      "\u001b[1;31m현재 셀 또는 이전 셀에서 코드를 실행하는 동안 Kernel이 충돌했습니다. 셀의 코드를 검토하여 오류의 가능한 원인을 식별하세요. 자세한 내용을 보려면 <a href='https://aka.ms/vscodeJupyterKernelCrash'> 여기 </a> 를 클릭하세요. 자세한 내용은 Jupyter <a href='command:jupyter.viewOutput'>로그</a>를 참조하세요."
     ]
    }
   ],
   "source": [
    "# 단추를 클릭하면 가격 조회해서 윈도우에 출력하기\n",
    "\n",
    "# 파이 코빗으로 하기\n",
    "\n",
    "# pip install pybithumb  # 빗섬에서 만든 api를 사용하기 위해 모듈 사용( 첨 한번만)\n",
    "\n",
    "\n",
    "import sys                           # 윈도우 시스템 접근\n",
    "from PyQt5.QtWidgets import *         # PyQt5 모듈 읽어오기\n",
    "from PyQt5 import uic    # 디자이너로 만든 창 사용\n",
    "import pybithumb  # 새로 깔기\n",
    "\n",
    "form_class = uic.loadUiType(\"mywindow.ui\")[0]\n",
    "\n",
    "class MyWindow(QMainWindow, form_class):\n",
    "   def __init__(self): \n",
    "       super().__init__()\n",
    "       self.setupUi(self)\n",
    "       self.pushButton.clicked.connect(self.btn_clicked)\n",
    "\n",
    "\n",
    "   def btn_clicked(self):     \n",
    "       price = pybithumb.get_current_price(\"BTC\")\n",
    "       self.lineEdit.setText(str(price))\n",
    "  \n",
    "\n",
    "app = QApplication(sys.argv) # 윈도우 창띄우기\n",
    "window = MyWindow()\n",
    "window.show()\n",
    "\n",
    "app.exec_() "
   ]
  },
  {
   "cell_type": "code",
   "execution_count": 1,
   "metadata": {},
   "outputs": [
    {
     "ename": "NameError",
     "evalue": "name 'QApplication' is not defined",
     "output_type": "error",
     "traceback": [
      "\u001b[1;31m---------------------------------------------------------------------------\u001b[0m",
      "\u001b[1;31mNameError\u001b[0m                                 Traceback (most recent call last)",
      "\u001b[1;32m~\\AppData\\Local\\Temp\\ipykernel_19328\\1735344531.py\u001b[0m in \u001b[0;36m<module>\u001b[1;34m\u001b[0m\n\u001b[0;32m      3\u001b[0m        \u001b[0mprint\u001b[0m\u001b[1;33m(\u001b[0m\u001b[0mprice\u001b[0m\u001b[1;33m)\u001b[0m\u001b[1;33m\u001b[0m\u001b[1;33m\u001b[0m\u001b[0m\n\u001b[0;32m      4\u001b[0m \u001b[1;33m\u001b[0m\u001b[0m\n\u001b[1;32m----> 5\u001b[1;33m \u001b[0mapp\u001b[0m \u001b[1;33m=\u001b[0m \u001b[0mQApplication\u001b[0m\u001b[1;33m(\u001b[0m\u001b[0msys\u001b[0m\u001b[1;33m.\u001b[0m\u001b[0margv\u001b[0m\u001b[1;33m)\u001b[0m \u001b[1;31m# 윈도우 창띄우기\u001b[0m\u001b[1;33m\u001b[0m\u001b[1;33m\u001b[0m\u001b[0m\n\u001b[0m\u001b[0;32m      6\u001b[0m \u001b[0mwindow\u001b[0m \u001b[1;33m=\u001b[0m \u001b[0mMyWindow\u001b[0m\u001b[1;33m(\u001b[0m\u001b[1;33m)\u001b[0m\u001b[1;33m\u001b[0m\u001b[1;33m\u001b[0m\u001b[0m\n\u001b[0;32m      7\u001b[0m \u001b[0mwindow\u001b[0m\u001b[1;33m.\u001b[0m\u001b[0mshow\u001b[0m\u001b[1;33m(\u001b[0m\u001b[1;33m)\u001b[0m\u001b[1;33m\u001b[0m\u001b[1;33m\u001b[0m\u001b[0m\n",
      "\u001b[1;31mNameError\u001b[0m: name 'QApplication' is not defined"
     ]
    }
   ],
   "source": [
    "def btn_clicked(self):     \n",
    "       price = pybithumb.get_current_price(\"BTC\")\n",
    "       print(price)\n",
    "\n",
    "app = QApplication(sys.argv) # 윈도우 창띄우기\n",
    "window = MyWindow()\n",
    "window.show()\n",
    "\n",
    "app.exec_() "
   ]
  },
  {
   "cell_type": "code",
   "execution_count": 1,
   "metadata": {},
   "outputs": [
    {
     "data": {
      "text/plain": [
       "0"
      ]
     },
     "execution_count": 1,
     "metadata": {},
     "output_type": "execute_result"
    }
   ],
   "source": [
    "# 단추를 클릭하면 가격 조회해서 윈도우에 출력하기\n",
    "\n",
    "# 파이 코빗으로 하기\n",
    "\n",
    "# pip install pybithumb  # 빗섬에서 만든 api를 사용하기 위해 모듈 사용( 첨 한번만)\n",
    "\n",
    "\n",
    "import sys                           # 윈도우 시스템 접근\n",
    "from PyQt5.QtWidgets import *         # PyQt5 모듈 읽어오기\n",
    "from PyQt5 import uic    # 디자이너로 만든 창 사용\n",
    "import pybithumb  # 새로 깔기\n",
    "\n",
    "form_class = uic.loadUiType(\"mywindow2.ui\")[0]\n",
    "\n",
    "class MyWindow(QMainWindow, form_class):\n",
    "   def __init__(self): \n",
    "       super().__init__()\n",
    "       self.setupUi(self)\n",
    "       self.pushButton.clicked.connect(self.btn_clicked)\n",
    "\n",
    "\n",
    "   def btn_clicked(self):     \n",
    "       price1 = pybithumb.get_current_price(\"BTC\")\n",
    "       self.lineEdit_1.setText(str(price1))\n",
    "       price2 = pybithumb.get_current_price(\"ETH\")\n",
    "       self.lineEdit_2.setText(str(price2))\n",
    "       price3 = pybithumb.get_current_price(\"XRP\")\n",
    "       self.lineEdit_3.setText(str(price3))\n",
    "  \n",
    "  \n",
    "\n",
    "app = QApplication(sys.argv) # 윈도우 창띄우기\n",
    "window = MyWindow()\n",
    "window.show()\n",
    "\n",
    "app.exec_() "
   ]
  }
 ],
 "metadata": {
  "kernelspec": {
   "display_name": "base",
   "language": "python",
   "name": "python3"
  },
  "language_info": {
   "codemirror_mode": {
    "name": "ipython",
    "version": 3
   },
   "file_extension": ".py",
   "mimetype": "text/x-python",
   "name": "python",
   "nbconvert_exporter": "python",
   "pygments_lexer": "ipython3",
   "version": "3.9.13"
  },
  "orig_nbformat": 4,
  "vscode": {
   "interpreter": {
    "hash": "7f7e32c5e102288e992346f63d8c1eb5d8460aac8c9e83a028ee1cbe79ab1c05"
   }
  }
 },
 "nbformat": 4,
 "nbformat_minor": 2
}
